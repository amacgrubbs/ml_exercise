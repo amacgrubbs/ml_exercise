{
 "cells": [
  {
   "cell_type": "markdown",
   "metadata": {},
   "source": [
    "#ML-Exercise\n",
    "\n",
    "##A Fund Raising Revenue Prediction Model\n"
   ]
  },
  {
   "cell_type": "markdown",
   "metadata": {},
   "source": [
    "###BACKGROUND AND OBJECTIVES\n",
    "\n",
    "The data set for this exercise are the results of a fund raising effort. Requests for donations to aid US veterans were mailed (referred to as 97NK mailing) to a large set of people who have donated to a similar cause in the past.\n",
    "\n",
    "The data set for this exercise includes a large number of features about the set of people who were mailed a request as well as two response variables called ‘Target_B’ and ‘Target_D’. \n",
    "\n",
    "‘Target_B’ refers to whether the member responded to the request.  \n",
    "‘Target_D’ is the dollar amount of the member’s donation if the user donated.\n",
    "\n",
    "Your goal is build a model that can improve the cost-effectiveness of future direct marketing effort by maximizing the net revenue (a regression or estimation task) generated from mailing another set of donation requests."
   ]
  },
  {
   "cell_type": "markdown",
   "metadata": {},
   "source": [
    "###DATA DISTRIBUTION\n",
    "\n",
    "The training and testing files include 191,779 donors who received the mailing. \n",
    "\n",
    "The overall response rate for this direct mail promotion is 5.1%.  The distribution of the target fields in the learning files is as follows:\n",
    "\n",
    "\n",
    "Learning Data Set\n",
    "Target Variable: Binary Indicator of Response to 97NK Mailing\n",
    "  \n",
    "| TARGET_B | Frequency | Percent | Cumulative Frequency | Cumulative Percent |\n",
    "|----------|:---------:|--------:|----------------------|--------------------|\n",
    "|     0    |   90569   |   94.9  |         90569        |        94.9        |\n",
    "|     1    |    4843   |   5.1   |         95412        |        100.0       |\n",
    "\n",
    "Learning Data Set\n",
    "Target Variable: Donation Amount (in $) to 97NK Mailing   \n",
    "\n",
    "| Variable |   N   |    Mean   | Minimum | Maximum |\n",
    "|:--------:|:-----:|:---------:|:-------:|:-------:|\n",
    "| TARGET_D | 95412 | 0.7930732 |    0    |  200.0  |\n",
    "\n",
    "\n",
    "The average donation amount (in $) among the responders is: \n",
    "\n",
    "Learning Data Set\n",
    "Target Variable: Donation Amount (in $) to 97NK Mailing  \n",
    "\n",
    "|   N  |    Mean    | Minimum | Maximum |\n",
    "|:----:|:----------:|:-------:|:-------:|\n",
    "| 4843 | 15.6243444 |   1.0   |  200.0  |"
   ]
  },
  {
   "cell_type": "markdown",
   "metadata": {},
   "source": [
    "###DATA SOURCES AND ORDER & TYPE OF THE VARIABLES IN THE DATA SETS\n",
    "\n",
    "The dataset includes:\n",
    "\n",
    "o 24 months of detailed promotion and giving history (covering the\n",
    "  period 12 to 36 months prior to the \"97NK\" mailing)\n",
    "\n",
    "o A summary of the promotions sent to the donors over the most recent\n",
    "  12 months prior to the \"97NK\" mailing (none of these\n",
    "  donors responded to any of these promotions)\n",
    "\n",
    "o Summary variables reflecting each donor's lifetime giving history\n",
    "  (e.g., total # of donations prior to \"97NK\" mailing, total $ amount\n",
    "  of the donations, etc.)\n",
    "\n",
    "o Overlay demographics, including a mix of household and area level\n",
    "  data\n",
    "\n",
    "o All other available data (e.g., date of first\n",
    "  gift, state, origin source, etc.)"
   ]
  },
  {
   "cell_type": "markdown",
   "metadata": {},
   "source": [
    "###EVALUATION RULES\n",
    "\n",
    "There are two separate pieces to the submission. The first is the code along with documentation describing your analysis and model building process. The other is a file containing predictions on the testing set. Each prediction should be a line with the unique record identifier (field name: CONTROLN) along with the prediction value. The code along with a documentation of your thought process is more important than the prediction file.\n",
    "\n",
    "The objective of the analysis will be to maximize the net revenue generated from the mailed promotions according to the testing set. The response variable is, thus, continuous (for the lack of a better common term). Although we are releasing both the binary and the continuous versions of the target variable (TARGET_B and TARGET_D respectively), the predicted value of the donation (dollar) amount (for the target variable TARGET_D) will be used for evaluating the results. So, returning the predicted value of the binary target variable TARGET_B and its associated probability/strength will not be sufficient. \n",
    "\n",
    "The typical outcome of predictive modeling in database marketing is an estimate of the expected response/return per customer in the database. A marketer will mail to a customer so long as the expected return from an order exceeds the cost invested in generating the order, i.e., the cost of promotion. For our purpose, the package cost (including the mail cost) is $0.68 per piece mailed. \n",
    "\n",
    "The evaluation of the results will be based solely on the net revenue generated on the hold-out or validation sample.\n",
    "\n",
    "The measure we will use is:\n",
    "\n",
    "Sum (the actual donation amount - \\$0.68) over all records for which the expected revenue (or predicted value of the donation) is over \\$0.68.\n",
    "\n",
    "\n",
    "This is a direct measure of profit."
   ]
  },
  {
   "cell_type": "markdown",
   "metadata": {},
   "source": [
    "###ADDITIONAL INFORMATION\n",
    "\n",
    "1. This data set contains a large number of features. Part of the challenge is finding ways to deal with a large numbers of features which you might not know the meaning of.\n",
    "\n",
    "2. Some of the fields in the analysis file may contain data entry and/or formatting errors. Cleaning the data is not the purpose of this exercise. We are more interested in your approach to the overall problem than the actual performance of your model, so don’t spend much time cleaning data even if you think it will hurt your model’s performance.\n",
    "\n",
    "3. The data sets are in comma delimited format. The learning dataset (train_set) contains 95412 records and 481 variables. The first/header row of the data set contains the field names. \n",
    "\n",
    "    The validation dataset (testing_set) contains 96367 records and 479 variables. The first/header row of the data set contains the field names. \n",
    "\n",
    "    THE RECORDS IN THE VALIDATION DATASET ARE IDENTICAL TO THE RECORDS IN THE LEARNING DATASET EXCEPT THAT THE VALUES FOR THE TARGET/DEPENDENT VARIABLES ARE MISSING (i.e., the fields TARGET_B and TARGET_D are not included in the validation data set.)<br><br>\n",
    "\n",
    "4. The data dictionary (for both the learning and the validation data set) is included in the file (data_details). The fields in the data dictionary are ordered by the position of the fields in the learning data set. The dictionary for the validation data set is identical to the dictionary for the learning data set except the two target fields (target_B and target_D) are missing in the validation data set.\n",
    "\n",
    "5. Blanks in the string (or character) variables/fields and periods in the numeric variables correspond to missing values.\n",
    "\n",
    "6. Each record has a unique record identifier or index (field name: CONTROLN.) For each record, there are two target/dependent variables (field names: TARGET_B and TARGET_D). TARGET_B is a binary variable indicating whether or not the record responded to the promotion of interest (\"97NK\" mailing) while TARGET_D contains the donation amount (dollar) and is only observed for those that responded to the promotion. Neither of these should be used to train the model. Each record in the returned file should consist of the following two values:\n",
    "\n",
    "    a. The unique record identifier or index (field name: CONTROLN)\n",
    "        \n",
    "    b. Predicted value of the donation (dollar) amount (for the target variable TARGET_D) for that record "
   ]
  },
  {
   "cell_type": "markdown",
   "metadata": {},
   "source": []
  },
  {
   "cell_type": "markdown",
   "metadata": {},
   "source": [
    "###DATA ANALYSIS"
   ]
  },
  {
   "cell_type": "code",
   "execution_count": 1,
   "metadata": {
    "collapsed": false
   },
   "outputs": [
    {
     "name": "stdout",
     "output_type": "stream",
     "text": [
      "Populating the interactive namespace from numpy and matplotlib\n"
     ]
    }
   ],
   "source": [
    "import pandas as pd\n",
    "import numpy as np\n",
    "%pylab inline"
   ]
  },
  {
   "cell_type": "code",
   "execution_count": 2,
   "metadata": {
    "collapsed": false
   },
   "outputs": [],
   "source": [
    "full_data = pd.read_csv('cup98LRN.txt',dtype={'NOEXCH':str}) \n",
    "# Got a warning that NoExch is a mixed type column, upon examining it, it had the numbers 1 and 0 as both a string and int\n",
    "# for the purposes of dummying this column, I imported the values as strings"
   ]
  },
  {
   "cell_type": "markdown",
   "metadata": {},
   "source": [
    "First thing is to take a look at the features provided in this dataset. The data details document divides the 481 features into 13 categories."
   ]
  },
  {
   "cell_type": "markdown",
   "metadata": {},
   "source": [
    "####1st Category:\n",
    "\n",
    "Variables:\n",
    "    \n",
    " 'ODATEDW',\n",
    " 'OSOURCE',\n",
    " 'TCODE',\n",
    " 'STATE',\n",
    " 'ZIP',\n",
    " 'MAILCODE',\n",
    " 'PVASTATE',\n",
    " 'DOB',\n",
    " 'NOEXCH',\n",
    " 'RECINHSE',\n",
    " 'RECP3',\n",
    " 'RECPGVG',\n",
    " 'RECSWEEP',\n",
    " 'MDMAUD',\n",
    " 'DOMAIN',\n",
    " 'CLUSTER',\n",
    " 'AGE',\n",
    " 'AGEFLAG',\n",
    " 'HOMEOWNR',\n",
    " 'CHILD03',\n",
    " 'CHILD07',\n",
    " 'CHILD12',\n",
    " 'CHILD18',\n",
    " 'NUMCHLD',\n",
    " 'INCOME',\n",
    " 'GENDER',\n",
    " 'WEALTH1',\n",
    " 'HIT'\n",
    "    "
   ]
  },
  {
   "cell_type": "markdown",
   "metadata": {},
   "source": [
    "The first category is primarily demographic information concerning the donor. Their state, zip, dob, are they a homeowner, number of children, etc. \n",
    "\n",
    "The ODATEDW feature is the date of the donor's first gift and is in the form YYMM. This will need to be converted to datetime if lenth of months between dates is to be found.\n",
    "\n",
    "The MDMAUD feature is likely of value due to it containing RFM analysis and will need to be split up and dummied out.\n",
    "\n",
    "The DOMAIN feature is used for Socio-Economic status clustering and will need to be dummied out.\n",
    "\n",
    "The HIT field refers to the total number of known times the donor has responded to a mail order offer and is likely valuable to include."
   ]
  },
  {
   "cell_type": "code",
   "execution_count": 3,
   "metadata": {
    "collapsed": false
   },
   "outputs": [
    {
     "data": {
      "text/plain": [
       "19938"
      ]
     },
     "execution_count": 3,
     "metadata": {},
     "output_type": "execute_result"
    }
   ],
   "source": [
    "len(full_data['ZIP'].value_counts())"
   ]
  },
  {
   "cell_type": "markdown",
   "metadata": {},
   "source": [
    "Ouch. So dummying out the ZIP column will chew through our degrees of freedom like a knife through butter...hopeful other features will provide the same similarity information normally obtained from the zipcode."
   ]
  },
  {
   "cell_type": "markdown",
   "metadata": {},
   "source": [
    "####2nd Category:\n",
    "\n",
    "Variables:\n",
    " \n",
    " 'MBCRAFT',\n",
    " 'MBGARDEN',\n",
    " 'MBBOOKS',\n",
    " 'MBCOLECT',\n",
    " 'MAGFAML',\n",
    " 'MAGFEM',\n",
    " 'MAGMALE',\n",
    " 'PUBGARDN',\n",
    " 'PUBCULIN',\n",
    " 'PUBHLTH',\n",
    " 'PUBDOITY',\n",
    " 'PUBNEWFN',\n",
    " 'PUBPHOTO',\n",
    " 'PUBOPP'"
   ]
  },
  {
   "cell_type": "markdown",
   "metadata": {},
   "source": [
    "The second category is the number of times the donor has responded to other types of mailing offers. Does appear to be sparely filled though and unlikely to be useful."
   ]
  },
  {
   "cell_type": "code",
   "execution_count": 4,
   "metadata": {
    "collapsed": false
   },
   "outputs": [
    {
     "data": {
      "text/plain": [
       "NaN    52854\n",
       " 0     37707\n",
       " 1      3521\n",
       " 2      1079\n",
       " 3       215\n",
       " 4        33\n",
       " 5         2\n",
       " 6         1\n",
       "dtype: int64"
      ]
     },
     "execution_count": 4,
     "metadata": {},
     "output_type": "execute_result"
    }
   ],
   "source": [
    "full_data['MBCRAFT'].value_counts(dropna=False)"
   ]
  },
  {
   "cell_type": "markdown",
   "metadata": {},
   "source": [
    "####3rd Category:\n",
    "\n",
    "Variables:\n",
    "\n",
    " 'DATASRCE',\n",
    " 'MALEMILI',\n",
    " 'MALEVET',\n",
    " 'VIETVETS',\n",
    " 'WWIIVETS',\n",
    " 'LOCALGOV',\n",
    " 'STATEGOV',\n",
    " 'FEDGOV',\n",
    " 'SOLP3',\n",
    " 'SOLIH',\n",
    " 'MAJOR',\n",
    " 'WEALTH2',\n",
    " 'GEOCODE'"
   ]
  },
  {
   "cell_type": "markdown",
   "metadata": {},
   "source": [
    "The third category has data that appears to be very important, such as percent males that are veterans. It doesn't state if this is percent males of the household, but it is likely this information came from the census data captured under the 6th category of features.\n",
    "\n",
    "There are also fields for solicitation limits on the household. Although these are sparely filled...in terms of a model, these donors might need to be removed if they will not accept a request for donation. However, they were clearly sent a 97NK so these fields area likely useless. "
   ]
  },
  {
   "cell_type": "code",
   "execution_count": 5,
   "metadata": {
    "collapsed": false
   },
   "outputs": [
    {
     "data": {
      "text/plain": [
       "       95232\n",
       "00        80\n",
       "12        72\n",
       "01        18\n",
       "02        10\n",
       "NaN        0\n",
       "dtype: int64"
      ]
     },
     "execution_count": 5,
     "metadata": {},
     "output_type": "execute_result"
    }
   ],
   "source": [
    "full_data['SOLP3'].value_counts(dropna=False)"
   ]
  },
  {
   "cell_type": "markdown",
   "metadata": {},
   "source": [
    "####4th Category:\n",
    "\n",
    "Variables:\n",
    "\n",
    " 'COLLECT1',\n",
    " 'VETERANS',\n",
    " 'BIBLE',\n",
    " 'CATLG',\n",
    " 'HOMEE',\n",
    " 'PETS',\n",
    " 'CDPLAY',\n",
    " 'STEREO',\n",
    " 'PCOWNERS',\n",
    " 'PHOTO',\n",
    " 'CRAFTS',\n",
    " 'FISHER',\n",
    " 'GARDENIN',\n",
    " 'BOATS',\n",
    " 'WALKER',\n",
    " 'KIDSTUFF',\n",
    " 'CARDS',\n",
    " 'PLATES',\n",
    " 'LIFESRC'"
   ]
  },
  {
   "cell_type": "markdown",
   "metadata": {},
   "source": [
    "The fourth category contains data on donor interests in Y/N form. The field for veterans seems relevant and these can be converted from Y/N to binary 1/0 fairly easily."
   ]
  },
  {
   "cell_type": "markdown",
   "metadata": {},
   "source": [
    "####5th Category:\n",
    "\n",
    "Variables:\n",
    "\n",
    "'PEPSTRFL'"
   ]
  },
  {
   "cell_type": "markdown",
   "metadata": {},
   "source": [
    "The fifth category is just a field for if the donor is a PEP star. This should also be captured in the RFA fields as S=STAR DONOR STAR Donors are individuals who have given to 3 consecutive card mailings.\n",
    "\n",
    "There are donors flagged as star donors in the RFM analysis but not in the PEPSTRFL field."
   ]
  },
  {
   "cell_type": "code",
   "execution_count": 6,
   "metadata": {
    "collapsed": false
   },
   "outputs": [
    {
     "data": {
      "text/plain": [
       "     50143\n",
       "X    45269\n",
       "dtype: int64"
      ]
     },
     "execution_count": 6,
     "metadata": {},
     "output_type": "execute_result"
    }
   ],
   "source": [
    "full_data['PEPSTRFL'].value_counts()"
   ]
  },
  {
   "cell_type": "code",
   "execution_count": 7,
   "metadata": {
    "collapsed": false
   },
   "outputs": [
    {
     "data": {
      "text/plain": [
       "5"
      ]
     },
     "execution_count": 7,
     "metadata": {},
     "output_type": "execute_result"
    }
   ],
   "source": [
    "len(full_data[(full_data['PEPSTRFL']!='X') & (full_data['RFA_5'].str[0]=='S')])"
   ]
  },
  {
   "cell_type": "markdown",
   "metadata": {},
   "source": [
    "####6th Category:\n",
    "\n",
    "Variables:\n",
    "\n",
    "'POP901' through 'AC2'"
   ]
  },
  {
   "cell_type": "markdown",
   "metadata": {},
   "source": [
    "The sixth category is the majority of the fields in the data set and contains characteristics on the donor's neighborhood. This seems much more descriptive in terms of clustering than state or zip and can likely replace those fields. \n",
    "\n",
    "Almost all fields are numerical except for 3: MSA, ADI, DMA. These appear to be clustering codes. Rather than dummy these, I would prefer to use the other data in this category since it is likely of higher clustering importance than a government assigned code. The number of dummy columns required is also a factor."
   ]
  },
  {
   "cell_type": "code",
   "execution_count": 8,
   "metadata": {
    "collapsed": false
   },
   "outputs": [
    {
     "data": {
      "text/plain": [
       "298"
      ]
     },
     "execution_count": 8,
     "metadata": {},
     "output_type": "execute_result"
    }
   ],
   "source": [
    "len(full_data['MSA'].value_counts())"
   ]
  },
  {
   "cell_type": "markdown",
   "metadata": {},
   "source": [
    "####7th Category:\n",
    "\n",
    "Variables:\n",
    "\n",
    "'ADATE_2',\n",
    " 'ADATE_3',\n",
    " 'ADATE_4',\n",
    " 'ADATE_5',\n",
    " 'ADATE_6',\n",
    " 'ADATE_7',\n",
    " 'ADATE_8',\n",
    " 'ADATE_9',\n",
    " 'ADATE_10',\n",
    " 'ADATE_11',\n",
    " 'ADATE_12',\n",
    " 'ADATE_13',\n",
    " 'ADATE_14',\n",
    " 'ADATE_15',\n",
    " 'ADATE_16',\n",
    " 'ADATE_17',\n",
    " 'ADATE_18',\n",
    " 'ADATE_19',\n",
    " 'ADATE_20',\n",
    " 'ADATE_21',\n",
    " 'ADATE_22',\n",
    " 'ADATE_23',\n",
    " 'ADATE_24',\n",
    " 'RFA_2',\n",
    " 'RFA_3',\n",
    " 'RFA_4',\n",
    " 'RFA_5',\n",
    " 'RFA_6',\n",
    " 'RFA_7',\n",
    " 'RFA_8',\n",
    " 'RFA_9',\n",
    " 'RFA_10',\n",
    " 'RFA_11',\n",
    " 'RFA_12',\n",
    " 'RFA_13',\n",
    " 'RFA_14',\n",
    " 'RFA_15',\n",
    " 'RFA_16',\n",
    " 'RFA_17',\n",
    " 'RFA_18',\n",
    " 'RFA_19',\n",
    " 'RFA_20',\n",
    " 'RFA_21',\n",
    " 'RFA_22',\n",
    " 'RFA_23',\n",
    " 'RFA_24'"
   ]
  },
  {
   "cell_type": "markdown",
   "metadata": {},
   "source": [
    "The seventh category is RFM data on previous promotions with similar promotion features: labels, notepads, stickers.   \n",
    "\n",
    "From this, I see that we are looking at a timeframe between '94 and '96 for previous promotions with the 97NK promotion being sent in june of '97 for almost all donors in the dataset."
   ]
  },
  {
   "cell_type": "code",
   "execution_count": 9,
   "metadata": {
    "collapsed": false
   },
   "outputs": [
    {
     "data": {
      "text/plain": [
       "9706    95399\n",
       "9704       13\n",
       "dtype: int64"
      ]
     },
     "execution_count": 9,
     "metadata": {},
     "output_type": "execute_result"
    }
   ],
   "source": [
    "full_data['ADATE_2'].value_counts()"
   ]
  },
  {
   "cell_type": "markdown",
   "metadata": {},
   "source": [
    "####8th Category:\n",
    "\n",
    "Variables:\n",
    "\n",
    " 'CARDPROM',\n",
    " 'MAXADATE',\n",
    " 'NUMPROM',\n",
    " 'CARDPM12',\n",
    " 'NUMPRM12'"
   ]
  },
  {
   "cell_type": "markdown",
   "metadata": {},
   "source": [
    "The eighth category contains summary information on the promotion history. It also specifically calls seperates out the number of card promotions vs all promotions. The 97NK promotion is a card promotion."
   ]
  },
  {
   "cell_type": "markdown",
   "metadata": {},
   "source": [
    "####9th Category:\n",
    "\n",
    "Variables:\n",
    "\n",
    " 'RDATE_3',\n",
    " 'RDATE_4',\n",
    " 'RDATE_5',\n",
    " 'RDATE_6',\n",
    " 'RDATE_7',\n",
    " 'RDATE_8',\n",
    " 'RDATE_9',\n",
    " 'RDATE_10',\n",
    " 'RDATE_11',\n",
    " 'RDATE_12',\n",
    " 'RDATE_13',\n",
    " 'RDATE_14',\n",
    " 'RDATE_15',\n",
    " 'RDATE_16',\n",
    " 'RDATE_17',\n",
    " 'RDATE_18',\n",
    " 'RDATE_19',\n",
    " 'RDATE_20',\n",
    " 'RDATE_21',\n",
    " 'RDATE_22',\n",
    " 'RDATE_23',\n",
    " 'RDATE_24',\n",
    " 'RAMNT_3',\n",
    " 'RAMNT_4',\n",
    " 'RAMNT_5',\n",
    " 'RAMNT_6',\n",
    " 'RAMNT_7',\n",
    " 'RAMNT_8',\n",
    " 'RAMNT_9',\n",
    " 'RAMNT_10',\n",
    " 'RAMNT_11',\n",
    " 'RAMNT_12',\n",
    " 'RAMNT_13',\n",
    " 'RAMNT_14',\n",
    " 'RAMNT_15',\n",
    " 'RAMNT_16',\n",
    " 'RAMNT_17',\n",
    " 'RAMNT_18',\n",
    " 'RAMNT_19',\n",
    " 'RAMNT_20',\n",
    " 'RAMNT_21',\n",
    " 'RAMNT_22',\n",
    " 'RAMNT_23',\n",
    " 'RAMNT_24'"
   ]
  },
  {
   "cell_type": "markdown",
   "metadata": {},
   "source": [
    "The ninth category is information concerning the giving from donors on the previous promotions, specifically the date and the amount. This is likely very important in terms of figuring out the donation amount of those predicted to donate in the 97NK promotion."
   ]
  },
  {
   "cell_type": "markdown",
   "metadata": {},
   "source": [
    "####10th Category:\n",
    "\n",
    "Variables:\n",
    "\n",
    " 'RAMNTALL',\n",
    " 'NGIFTALL',\n",
    " 'CARDGIFT',\n",
    " 'MINRAMNT',\n",
    " 'MINRDATE',\n",
    " 'MAXRAMNT',\n",
    " 'MAXRDATE',\n",
    " 'LASTGIFT',\n",
    " 'LASTDATE',\n",
    " 'FISTDATE',\n",
    " 'NEXTDATE',\n",
    " 'TIMELAG',\n",
    " 'AVGGIFT'"
   ]
  },
  {
   "cell_type": "markdown",
   "metadata": {},
   "source": [
    "The tenth category contains summary variables on the previous donations. The LASTDATE, NGIFTALL and RAMNTALL features are what I would expect to be used in a RFM analysis breaking users up in quartiles. "
   ]
  },
  {
   "cell_type": "markdown",
   "metadata": {},
   "source": [
    "####11th Category:\n",
    "\n",
    "Variables:\n",
    "\n",
    " 'CONTROLN',\n",
    " 'TARGET_B',\n",
    " 'TARGET_D',\n",
    " 'HPHONE_D' "
   ]
  },
  {
   "cell_type": "markdown",
   "metadata": {},
   "source": [
    "The eleventh category contains the unique ID and the two target variables: TARGET_B and TARGET_D."
   ]
  },
  {
   "cell_type": "markdown",
   "metadata": {},
   "source": [
    "####12th Category:\n",
    "\n",
    "Variables:\n",
    "\n",
    " 'RFA_2R',\n",
    " 'RFA_2F',\n",
    " 'RFA_2A',\n",
    " 'MDMAUD_R',\n",
    " 'MDMAUD_F',\n",
    " 'MDMAUD_A'"
   ]
  },
  {
   "cell_type": "markdown",
   "metadata": {},
   "source": [
    "The twelfth category is the RFA codes already broken out for the 97NK promotion and the Major Donor Matrix, making RFA_2 and MDMAUD redundent features."
   ]
  },
  {
   "cell_type": "markdown",
   "metadata": {},
   "source": [
    "####13th Category:\n",
    "\n",
    "Variables:\n",
    "\n",
    " 'CLUSTER2',\n",
    " 'GEOCODE2'"
   ]
  },
  {
   "cell_type": "markdown",
   "metadata": {},
   "source": [
    "The final category contains two additional clustering code features. "
   ]
  },
  {
   "cell_type": "markdown",
   "metadata": {},
   "source": [
    "###DATA CLEANING"
   ]
  },
  {
   "cell_type": "markdown",
   "metadata": {},
   "source": [
    "Due to a large number of features in this dataset being nominal, symbolic or redundant, I chose to drop or convert these features before continuing."
   ]
  },
  {
   "cell_type": "markdown",
   "metadata": {},
   "source": [
    "From the data analysis, I know that the 97NK promotion was sent out in June 1997. I will therefore use that month and year as the 'now' for determining the number of months since the donor's first gift since just knowing the month and year of the first gift is not useful in my models."
   ]
  },
  {
   "cell_type": "code",
   "execution_count": 10,
   "metadata": {
    "collapsed": true
   },
   "outputs": [],
   "source": [
    "from datetime import datetime\n",
    "from dateutil import relativedelta\n",
    "\n",
    "def months_between(date_in):\n",
    "    # rough workaround to handle YYMM format by converting to number of months from then till now\n",
    "    if len(str(date_in)) != 4:\n",
    "        # handle dates with value 0\n",
    "        return 0\n",
    "    else:\n",
    "        date_in = '19' + str(date_in)\n",
    "        date1=datetime.strptime(date_in,'%Y%m')\n",
    "        date2=datetime.strptime('199706','%Y%m') # assume now is June 1997\n",
    "        r = relativedelta.relativedelta(date2,date1)\n",
    "        return r.years*12 + r.months"
   ]
  },
  {
   "cell_type": "code",
   "execution_count": 11,
   "metadata": {
    "collapsed": true
   },
   "outputs": [],
   "source": [
    "full_data['MONTHS_SINCE_1st_GIFT'] = full_data.apply(lambda row: months_between(row['ODATEDW']),axis=1)\n",
    "full_data.drop(['ODATEDW'],axis=1,inplace=True)"
   ]
  },
  {
   "cell_type": "markdown",
   "metadata": {},
   "source": [
    "I viewed the following features in the 1st category as non-important based on their descriptions and chose to drop them, at least for my first pass on model building: 'OSOURCE', 'TCODE', 'MAILCODE', 'PVASTATE', 'NOEXCH', 'RECINHSE', 'RECP3', 'RECPGVG', 'RECSWEEP', 'AGEFLAG', 'CHILD03','CHILD07', 'CHILD12', 'CHILD18', 'NUMCHLD'. It is possible that fields like 'RECINHSE' or 'RECP3' are important but without domain specific knowledge, I chose to not include them on my first pass.\n",
    "\n",
    "I felt the important clustering information captured in 'STATE','ZIP' was also present in the census data in the 6th category, so chose to drop 'STATE','ZIP'."
   ]
  },
  {
   "cell_type": "code",
   "execution_count": 12,
   "metadata": {
    "collapsed": true
   },
   "outputs": [],
   "source": [
    "cols_to_drop = ['OSOURCE','TCODE','STATE','ZIP','MAILCODE','PVASTATE','NOEXCH','RECINHSE','RECP3','RECPGVG','RECSWEEP','AGEFLAG'\n",
    "               ,'CHILD03','CHILD07','CHILD12','CHILD18','NUMCHLD']\n",
    "full_data.drop(cols_to_drop, axis=1, inplace=True)"
   ]
  },
  {
   "cell_type": "markdown",
   "metadata": {},
   "source": [
    "I chose to drop 'DOB' given that the donor's age was also a feature in the dataset. But made sure to replace missing ages with 0."
   ]
  },
  {
   "cell_type": "code",
   "execution_count": 13,
   "metadata": {
    "collapsed": false
   },
   "outputs": [],
   "source": [
    "full_data.drop('DOB', axis=1, inplace=True)\n",
    "full_data['AGE'].fillna(value=0,inplace=True)"
   ]
  },
  {
   "cell_type": "markdown",
   "metadata": {},
   "source": [
    "For the MDMAUD feature or Major Donor Matrix code, I was going to dummy out each field into a seperate column, however, after examination, only 294 donors had values and of these, only 15 actually gave money in the 97NK promotion. Therefore, I chose to drop the column and the 3 other columns that had already broken the fields out into RFM.  "
   ]
  },
  {
   "cell_type": "code",
   "execution_count": 14,
   "metadata": {
    "collapsed": false
   },
   "outputs": [
    {
     "name": "stdout",
     "output_type": "stream",
     "text": [
      "294\n",
      "15\n"
     ]
    }
   ],
   "source": [
    "print (len(full_data[(full_data['MDMAUD']!='XXXX')]))\n",
    "\n",
    "print (len(full_data.ix[(full_data['MDMAUD']!='XXXX') & (full_data['TARGET_B']!=0)]))"
   ]
  },
  {
   "cell_type": "code",
   "execution_count": 15,
   "metadata": {
    "collapsed": false
   },
   "outputs": [],
   "source": [
    "cols_to_drop = ['MDMAUD_R','MDMAUD_F','MDMAUD_A','MDMAUD']\n",
    "full_data.drop(cols_to_drop, axis=1, inplace=True)"
   ]
  },
  {
   "cell_type": "markdown",
   "metadata": {},
   "source": [
    "Unlike 'ZIP', the 'DOMAIN' feature seemed a good representation of the Socio-Economic status of the donor's neighborhood so I chose to include this feature and dummy it out into several columns."
   ]
  },
  {
   "cell_type": "code",
   "execution_count": 16,
   "metadata": {
    "collapsed": true
   },
   "outputs": [],
   "source": [
    "full_data = pd.concat([full_data, pd.get_dummies(full_data['DOMAIN'],prefix='SES_')], axis=1)\n",
    "cols_to_drop = ['DOMAIN','SES__ ']\n",
    "full_data.drop(cols_to_drop, axis=1, inplace=True)"
   ]
  },
  {
   "cell_type": "markdown",
   "metadata": {},
   "source": [
    "I chose to drop the 'CLUSTER' field, as the socio-economic status of the donor's neighborhood had already been captured by the 'DOMAIN' dummy fields."
   ]
  },
  {
   "cell_type": "code",
   "execution_count": 17,
   "metadata": {
    "collapsed": false
   },
   "outputs": [],
   "source": [
    "full_data.drop('CLUSTER', axis=1, inplace=True)"
   ]
  },
  {
   "cell_type": "markdown",
   "metadata": {},
   "source": [
    "I felt 'HOMEOWNR' made sense as being representative of wealth and therefore more money to donate. I converted this column into a binary representation with 1 representing the donor being a homeowner and 0 being if this status is unknown."
   ]
  },
  {
   "cell_type": "code",
   "execution_count": 18,
   "metadata": {
    "collapsed": true
   },
   "outputs": [],
   "source": [
    "def binary_map(incoming,yes_series):\n",
    "    if str(incoming) in yes_series:\n",
    "        s = 1  # convert to 1\n",
    "    else:\n",
    "        s = 0 # convert to 0\n",
    "    return s"
   ]
  },
  {
   "cell_type": "code",
   "execution_count": 19,
   "metadata": {
    "collapsed": false
   },
   "outputs": [],
   "source": [
    "full_data['HOMEOWNR'] = full_data.apply(lambda row: binary_map(row['HOMEOWNR'],'H'),axis=1)"
   ]
  },
  {
   "cell_type": "markdown",
   "metadata": {},
   "source": [
    "'INCOME' and 'WEALTH1' both contained numeric levels representing the donor's affluence and were retained from this category. They were dummied out with NaN's getting a 0 in each dummy column."
   ]
  },
  {
   "cell_type": "code",
   "execution_count": 20,
   "metadata": {
    "collapsed": true
   },
   "outputs": [],
   "source": [
    "full_data = pd.concat([full_data, pd.get_dummies(full_data['INCOME'],prefix='INCOME_')], axis=1)\n",
    "full_data = pd.concat([full_data, pd.get_dummies(full_data['WEALTH1'],prefix='WEALTH1_')], axis=1)\n",
    "cols_to_drop = ['INCOME','WEALTH1']\n",
    "full_data.drop(cols_to_drop, axis=1, inplace=True)"
   ]
  },
  {
   "cell_type": "markdown",
   "metadata": {},
   "source": [
    "'HIT' was also retained as it represents the total number of known times the donor has responded to a mail order offer other than PVA's"
   ]
  },
  {
   "cell_type": "markdown",
   "metadata": {},
   "source": [
    "'GENDER' is a categorical variable so was dummied out into Male and Female binary columns with unknown genders represented with a 0 in both the male and female columns. Unknown genders include C and A which were not explained in the data details document."
   ]
  },
  {
   "cell_type": "code",
   "execution_count": 21,
   "metadata": {
    "collapsed": true
   },
   "outputs": [],
   "source": [
    "full_data = pd.concat([full_data, pd.get_dummies(full_data['GENDER'],prefix='GENDER_')], axis=1)\n",
    "cols_to_drop = ['GENDER','GENDER__ ','GENDER__A','GENDER__C','GENDER__J','GENDER__U']\n",
    "full_data.drop(cols_to_drop, axis=1, inplace=True)"
   ]
  },
  {
   "cell_type": "markdown",
   "metadata": {},
   "source": [
    "I chose to drop all features from the 2nd category as they were unlikely to provide more information on the donor's donation habits for veterans than what is already captured by the promotional response data in the 10th category."
   ]
  },
  {
   "cell_type": "code",
   "execution_count": 22,
   "metadata": {
    "collapsed": true
   },
   "outputs": [],
   "source": [
    "cols_to_drop = ['MBCRAFT','MBGARDEN','MBBOOKS','MBCOLECT','MAGFAML','MAGFEM','MAGMALE','PUBGARDN','PUBCULIN','PUBHLTH'\n",
    "                ,'PUBDOITY','PUBNEWFN','PUBPHOTO','PUBOPP']\n",
    "full_data.drop(cols_to_drop, axis=1, inplace=True)"
   ]
  },
  {
   "cell_type": "markdown",
   "metadata": {},
   "source": [
    "I chose to only include the 'MALEMILI', 'MALEVET', 'VIETVETS', and 'WWIIVETS' features from the 3rd category of features. The other features seemed superfluous such as 'WEALTH2' which has a different meaning depending on the state of the donor."
   ]
  },
  {
   "cell_type": "code",
   "execution_count": 23,
   "metadata": {
    "collapsed": true
   },
   "outputs": [],
   "source": [
    "cols_to_drop = ['DATASRCE','LOCALGOV','STATEGOV','FEDGOV','SOLP3','SOLIH','MAJOR','WEALTH2','GEOCODE']\n",
    "full_data.drop(cols_to_drop, axis=1, inplace=True)"
   ]
  },
  {
   "cell_type": "markdown",
   "metadata": {},
   "source": [
    "From the 4th category, donor interests in 'VETERANS' makes sense to include."
   ]
  },
  {
   "cell_type": "code",
   "execution_count": 24,
   "metadata": {
    "collapsed": false
   },
   "outputs": [],
   "source": [
    "full_data['VETERANS'] = full_data.apply(lambda row: binary_map(row['VETERANS'],'Y'),axis=1)"
   ]
  },
  {
   "cell_type": "code",
   "execution_count": 25,
   "metadata": {
    "collapsed": true
   },
   "outputs": [],
   "source": [
    "cols_to_drop = ['COLLECT1','BIBLE','CATLG','HOMEE','PETS','CDPLAY','STEREO','PCOWNERS','PHOTO','CRAFTS','FISHER','GARDENIN'\n",
    "                ,'BOATS','WALKER','KIDSTUFF','CARDS','PLATES','LIFESRC']\n",
    "full_data.drop(cols_to_drop, axis=1, inplace=True)"
   ]
  },
  {
   "cell_type": "markdown",
   "metadata": {},
   "source": [
    "The 5th category is just 'PEPSTRFL' but divides the donors in half between those that are and those that are not. I converted this feature into a binary classification."
   ]
  },
  {
   "cell_type": "code",
   "execution_count": 26,
   "metadata": {
    "collapsed": true
   },
   "outputs": [],
   "source": [
    "full_data['PEPSTRFL'] = full_data.apply(lambda row: binary_map(row['PEPSTRFL'],'X'),axis=1)"
   ]
  },
  {
   "cell_type": "markdown",
   "metadata": {},
   "source": [
    "There are probably too many features to choose from in the 6th category. Although including them all is an option, due to computational and time constraints, I chose to include 4: IC1: Median Household Income in hundreds, IC5: Per Capita Income, HV1: Median Home Value in hundreds, and HU1: Percent Owner Occupied Housing Units.\n",
    "\n",
    "These assume homeowners in high valued and owned neighborhoods are more likely to donate."
   ]
  },
  {
   "cell_type": "code",
   "execution_count": 27,
   "metadata": {
    "collapsed": true
   },
   "outputs": [],
   "source": [
    "cols_to_drop = ['POP901','POP902','POP903','POP90C1','POP90C2','POP90C3','POP90C4','POP90C5','ETH1','ETH2','ETH3','ETH4','ETH5'\n",
    "                ,'ETH6','ETH7','ETH8','ETH9','ETH10','ETH11','ETH12','ETH13','ETH14','ETH15','ETH16','AGE901','AGE902','AGE903'\n",
    "                ,'AGE904','AGE905','AGE906','AGE907','CHIL1','CHIL2','CHIL3','AGEC1','AGEC2','AGEC3','AGEC4','AGEC5','AGEC6'\n",
    "                ,'AGEC7','CHILC1','CHILC2','CHILC3','CHILC4','CHILC5','HHAGE1','HHAGE2','HHAGE3','HHN1','HHN2','HHN3','HHN4'\n",
    "                ,'HHN5','HHN6','MARR1','MARR2','MARR3','MARR4','HHP1','HHP2','DW1','DW2','DW3','DW4','DW5','DW6','DW7','DW8'\n",
    "                ,'DW9','HV2','HV3','HV4','HU2','HU3','HU4','HU5','HHD1','HHD2','HHD3','HHD4','HHD5','HHD6','HHD7','HHD8','HHD9'\n",
    "                ,'HHD10','HHD11','HHD12','ETHC1','ETHC2','ETHC3','ETHC4','ETHC5','ETHC6','HVP1','HVP2','HVP3','HVP4','HVP5'\n",
    "                ,'HVP6','HUR1','HUR2','RHP1','RHP2','RHP3','RHP4','HUPA1','HUPA2','HUPA3','HUPA4','HUPA5','HUPA6','HUPA7'\n",
    "                ,'RP1','RP2','RP3','RP4','MSA','ADI','DMA','IC2','IC3','IC4','IC6','IC7','IC8','IC9','IC10','IC11','IC12','IC13'\n",
    "                ,'IC14','IC15','IC16','IC17','IC18','IC19','IC20','IC21','IC22','IC23','HHAS1','HHAS2','HHAS3','HHAS4','MC1'\n",
    "                ,'MC2','MC3','TPE1','TPE2','TPE3','TPE4','TPE5','TPE6','TPE7','TPE8','TPE9','PEC1','PEC2','TPE10','TPE11','TPE12'\n",
    "                ,'TPE13','LFC1','LFC2','LFC3','LFC4','LFC5','LFC6','LFC7','LFC8','LFC9','LFC10','OCC1','OCC2','OCC3','OCC4'\n",
    "                ,'OCC5','OCC6','OCC7','OCC8','OCC9','OCC10','OCC11','OCC12','OCC13','EIC1','EIC2','EIC3','EIC4','EIC5','EIC6'\n",
    "                ,'EIC7','EIC8','EIC9','EIC10','EIC11','EIC12','EIC13','EIC14','EIC15','EIC16','OEDC1','OEDC2','OEDC3','OEDC4'\n",
    "                ,'OEDC5','OEDC6','OEDC7','EC1','EC2','EC3','EC4','EC5','EC6','EC7','EC8','SEC1','SEC2','SEC3','SEC4','SEC5'\n",
    "                ,'AFC1','AFC2','AFC3','AFC4','AFC5','AFC6','VC1','VC2','VC3','VC4','ANC1','ANC2','ANC3','ANC4','ANC5','ANC6'\n",
    "                ,'ANC7','ANC8','ANC9','ANC10','ANC11','ANC12','ANC13','ANC14','ANC15','POBC1','POBC2','LSC1','LSC2','LSC3'\n",
    "                ,'LSC4','VOC1','VOC2','VOC3','HC1','HC2','HC3','HC4','HC5','HC6','HC7','HC8','HC9','HC10','HC11','HC12','HC13'\n",
    "                ,'HC14','HC15','HC16','HC17','HC18','HC19','HC20','HC21','MHUC1','MHUC2','AC1','AC2']\n",
    "full_data.drop(cols_to_drop, axis=1, inplace=True)"
   ]
  },
  {
   "cell_type": "markdown",
   "metadata": {},
   "source": [
    "From the 7th category, the donor's FRM status as of the 97NK mailing date makes the most sense to include. Flucations between the RFM status's of the previous promotions are likely not as important. However, all accounts are considered lapsing donors in terms of the recency of the 97NK promotion. Therefore, the recency portion of the 96NK will be used instead. The Monetary portion is already captured in 'LASTGIFT' and therefore does not need to be pulled from 'RFA_2'."
   ]
  },
  {
   "cell_type": "code",
   "execution_count": 28,
   "metadata": {
    "collapsed": false
   },
   "outputs": [
    {
     "data": {
      "text/plain": [
       "L1F    30380\n",
       "L1G    12384\n",
       "L2F    10961\n",
       "L3E     7767\n",
       "L2E     4989\n",
       "L4D     4914\n",
       "L1E     4911\n",
       "L2G     4595\n",
       "L4E     3972\n",
       "L3F     3523\n",
       "L3D     2498\n",
       "L4F     2100\n",
       "L3G     1503\n",
       "L4G      915\n",
       "dtype: int64"
      ]
     },
     "execution_count": 28,
     "metadata": {},
     "output_type": "execute_result"
    }
   ],
   "source": [
    "full_data['RFA_2'].value_counts()"
   ]
  },
  {
   "cell_type": "code",
   "execution_count": 29,
   "metadata": {
    "collapsed": false
   },
   "outputs": [],
   "source": [
    "def rfa_map(incoming,position,match_val):\n",
    "    if len(incoming) < 3:\n",
    "        return 0 # handle blank values\n",
    "    if incoming[position] == match_val:  # strings start at position 0\n",
    "        s = 1  # convert to 1\n",
    "    else:\n",
    "        s = 0 # convert to 0\n",
    "    return s"
   ]
  },
  {
   "cell_type": "code",
   "execution_count": 30,
   "metadata": {
    "collapsed": true
   },
   "outputs": [],
   "source": [
    "for i in ('F','N','A','L','I'):\n",
    "    full_data['RFA_3_' + i] = full_data.apply(lambda row: rfa_map(row['RFA_3'],0,i),axis=1)\n",
    "    \n",
    "full_data = pd.concat([full_data, pd.get_dummies(full_data['RFA_2F'],prefix='RFA_2F_')], axis=1)"
   ]
  },
  {
   "cell_type": "markdown",
   "metadata": {},
   "source": [
    "The only feature not of importance from the 8th category is 'MAXADATE'."
   ]
  },
  {
   "cell_type": "code",
   "execution_count": 31,
   "metadata": {
    "collapsed": true
   },
   "outputs": [],
   "source": [
    "full_data.drop('MAXADATE', axis=1, inplace=True)"
   ]
  },
  {
   "cell_type": "markdown",
   "metadata": {},
   "source": [
    "I used the features in the 9th category to create new summary features, specifically number of promotions per donor in the last 24 months, number of donations from the donor in the last 24 months, and the average amount donated in the last 24 months.\n",
    "\n",
    "I checked to see if 'RAMNTALL' and 'NGIFTALL' were for the last 24 months but they were in fact for the lifetime of the donor."
   ]
  },
  {
   "cell_type": "code",
   "execution_count": 32,
   "metadata": {
    "collapsed": false
   },
   "outputs": [
    {
     "data": {
      "text/html": [
       "<div style=\"max-height:1000px;max-width:1500px;overflow:auto;\">\n",
       "<table border=\"1\" class=\"dataframe\">\n",
       "  <thead>\n",
       "    <tr style=\"text-align: right;\">\n",
       "      <th></th>\n",
       "      <th>RAMNTALL</th>\n",
       "      <th>SUM_GIFT_AMT</th>\n",
       "    </tr>\n",
       "  </thead>\n",
       "  <tbody>\n",
       "    <tr>\n",
       "      <th>0</th>\n",
       "      <td> 240</td>\n",
       "      <td> 73</td>\n",
       "    </tr>\n",
       "    <tr>\n",
       "      <th>1</th>\n",
       "      <td>  47</td>\n",
       "      <td> 37</td>\n",
       "    </tr>\n",
       "    <tr>\n",
       "      <th>2</th>\n",
       "      <td> 202</td>\n",
       "      <td> 58</td>\n",
       "    </tr>\n",
       "    <tr>\n",
       "      <th>3</th>\n",
       "      <td> 109</td>\n",
       "      <td> 65</td>\n",
       "    </tr>\n",
       "    <tr>\n",
       "      <th>4</th>\n",
       "      <td> 254</td>\n",
       "      <td> 25</td>\n",
       "    </tr>\n",
       "  </tbody>\n",
       "</table>\n",
       "</div>"
      ],
      "text/plain": [
       "   RAMNTALL  SUM_GIFT_AMT\n",
       "0       240            73\n",
       "1        47            37\n",
       "2       202            58\n",
       "3       109            65\n",
       "4       254            25"
      ]
     },
     "execution_count": 32,
     "metadata": {},
     "output_type": "execute_result"
    }
   ],
   "source": [
    "full_data['SUM_GIFT_AMT'] = full_data.ix[:,'RAMNT_3':'RAMNT_24'].sum(axis=1).fillna(0)\n",
    "full_data[['RAMNTALL','SUM_GIFT_AMT']].head()"
   ]
  },
  {
   "cell_type": "code",
   "execution_count": 33,
   "metadata": {
    "collapsed": false
   },
   "outputs": [],
   "source": [
    "full_data['NUM_PROMOTIONS'] = full_data.ix[:,'ADATE_3':'ADATE_24'].count(axis=1)\n",
    "full_data['NUM_DONATIONS'] = full_data.ix[:,'RAMNT_3':'RAMNT_24'].count(axis=1)\n",
    "full_data['AVG_GIFT_AMT'] = full_data['SUM_GIFT_AMT'] / full_data['NUM_DONATIONS'].map(lambda x: max(x,1))"
   ]
  },
  {
   "cell_type": "markdown",
   "metadata": {},
   "source": [
    "I chose to only count promotions of NK and SK in terms of similar card promotions in order to distinguish donors more likely to donate to the specific type of promotion occuring with 97NK. This was also only over the last 24 months."
   ]
  },
  {
   "cell_type": "code",
   "execution_count": 34,
   "metadata": {
    "collapsed": true
   },
   "outputs": [],
   "source": [
    "full_data['NUM_CARD_PROMO'] = full_data.ix[:,['ADATE_3','ADATE_5','ADATE_14','ADATE_24']].count(axis=1)\n",
    "full_data['NUM_CARD_DONAT'] = full_data.ix[:,['RAMNT_3','RAMNT_5','RAMNT_14','RAMNT_24']].count(axis=1)\n",
    "full_data['CARD_GIFT_AMT'] = full_data.ix[:,['RAMNT_3','RAMNT_5','RAMNT_14','RAMNT_24']].sum(axis=1).fillna(0)\n",
    "full_data['AVG_CARD_AMT'] = full_data['CARD_GIFT_AMT'] / full_data['NUM_CARD_DONAT'].map(lambda x: max(x,1))"
   ]
  },
  {
   "cell_type": "code",
   "execution_count": 35,
   "metadata": {
    "collapsed": false
   },
   "outputs": [],
   "source": [
    "cols_to_drop = ['ADATE_2','ADATE_3','ADATE_4','ADATE_5','ADATE_6','ADATE_7','ADATE_8','ADATE_9','ADATE_10','ADATE_11','ADATE_12'\n",
    "                ,'ADATE_13','ADATE_14','ADATE_15','ADATE_16','ADATE_17','ADATE_18','ADATE_19','ADATE_20','ADATE_21','ADATE_22'\n",
    "                ,'ADATE_23','ADATE_24','RFA_2','RFA_3','RFA_4','RFA_5','RFA_6','RFA_7','RFA_8','RFA_9','RFA_10','RFA_11'\n",
    "                ,'RFA_12','RFA_13','RFA_14','RFA_15','RFA_16','RFA_17','RFA_18','RFA_19','RFA_20','RFA_21','RFA_22','RFA_23'\n",
    "                ,'RFA_24','RFA_2F__4','RFA_2R','RFA_2F','RFA_2A','RDATE_3','RDATE_4','RDATE_5','RDATE_6','RDATE_7','RDATE_8'\n",
    "                ,'RDATE_9','RDATE_10','RDATE_11','RDATE_12','RDATE_13','RDATE_14','RDATE_15','RDATE_16','RDATE_17','RDATE_18'\n",
    "                ,'RDATE_19','RDATE_20','RDATE_21','RDATE_22','RDATE_23','RDATE_24','RAMNT_3','RAMNT_4','RAMNT_5','RAMNT_6'\n",
    "                ,'RAMNT_7','RAMNT_8','RAMNT_9','RAMNT_10','RAMNT_11','RAMNT_12','RAMNT_13','RAMNT_14','RAMNT_15','RAMNT_16'\n",
    "                ,'RAMNT_17','RAMNT_18','RAMNT_19','RAMNT_20','RAMNT_21','RAMNT_22','RAMNT_23','RAMNT_24']\n",
    "full_data.drop(cols_to_drop, axis=1, inplace=True)"
   ]
  },
  {
   "cell_type": "markdown",
   "metadata": {},
   "source": [
    "Most of the features in the 10th category provided information on the lifetime patterns of the donor. I decided not to include 'CARDGIFT' as I was unsure if my method of demoting card promotions was the same as the data set.  "
   ]
  },
  {
   "cell_type": "code",
   "execution_count": 36,
   "metadata": {
    "collapsed": false
   },
   "outputs": [],
   "source": [
    "full_data['MONTHS_SINCE_LAST_GIFT'] = full_data.apply(lambda row: months_between(row['LASTDATE']),axis=1)\n",
    "full_data.drop(['LASTDATE'],axis=1,inplace=True)"
   ]
  },
  {
   "cell_type": "code",
   "execution_count": 37,
   "metadata": {
    "collapsed": true
   },
   "outputs": [],
   "source": [
    "full_data['GIFT_RANGE'] = full_data['MAXRAMNT'] - full_data['MINRAMNT']"
   ]
  },
  {
   "cell_type": "code",
   "execution_count": 38,
   "metadata": {
    "collapsed": true
   },
   "outputs": [],
   "source": [
    "cols_to_drop = ['CARDGIFT','MINRAMNT','MINRDATE','MAXRDATE','FISTDATE','NEXTDATE','TIMELAG']\n",
    "full_data.drop(cols_to_drop, axis=1, inplace=True)"
   ]
  },
  {
   "cell_type": "markdown",
   "metadata": {},
   "source": [
    "From the 11th category, all of these features will eventually be dropped from the X-set, but for now, only 'CONTROLN' and 'HPHONE_D' were removed. I saved off 'CONTROLN' to be used later."
   ]
  },
  {
   "cell_type": "code",
   "execution_count": 39,
   "metadata": {
    "collapsed": true
   },
   "outputs": [],
   "source": [
    "sample_num = full_data['CONTROLN']\n",
    "cols_to_drop = ['CONTROLN','HPHONE_D']\n",
    "full_data.drop(cols_to_drop, axis=1, inplace=True)"
   ]
  },
  {
   "cell_type": "markdown",
   "metadata": {},
   "source": [
    "All features from the 12th category had already been dropped at previous stages in the data cleaning."
   ]
  },
  {
   "cell_type": "markdown",
   "metadata": {},
   "source": [
    "Since I had chosen not to include the features 'CLUSTER' and 'GEOCODE' from the 13th category, in made sense not to include these clustering codes as well."
   ]
  },
  {
   "cell_type": "code",
   "execution_count": 40,
   "metadata": {
    "collapsed": true
   },
   "outputs": [],
   "source": [
    "cols_to_drop = ['CLUSTER2','GEOCODE2']\n",
    "full_data.drop(cols_to_drop, axis=1, inplace=True)"
   ]
  },
  {
   "cell_type": "markdown",
   "metadata": {},
   "source": [
    "This drops me down to a much more managable 78 - the 2 target variables = 76 features!"
   ]
  },
  {
   "cell_type": "code",
   "execution_count": 41,
   "metadata": {
    "collapsed": false
   },
   "outputs": [
    {
     "data": {
      "text/plain": [
       "78"
      ]
     },
     "execution_count": 41,
     "metadata": {},
     "output_type": "execute_result"
    }
   ],
   "source": [
    "len(full_data.columns.values.tolist())"
   ]
  },
  {
   "cell_type": "code",
   "execution_count": null,
   "metadata": {
    "collapsed": false
   },
   "outputs": [],
   "source": []
  },
  {
   "cell_type": "markdown",
   "metadata": {},
   "source": [
    "###MODELING"
   ]
  },
  {
   "cell_type": "code",
   "execution_count": 42,
   "metadata": {
    "collapsed": false
   },
   "outputs": [],
   "source": [
    "from sklearn.metrics import f1_score, confusion_matrix, roc_curve, auc\n",
    "from sklearn.cross_validation import train_test_split\n",
    "from sklearn.grid_search import GridSearchCV\n",
    "from sklearn.ensemble import GradientBoostingClassifier, RandomForestClassifier\n",
    "from sklearn.linear_model import LogisticRegression\n",
    "from sklearn import preprocessing"
   ]
  },
  {
   "cell_type": "code",
   "execution_count": 43,
   "metadata": {
    "collapsed": true
   },
   "outputs": [],
   "source": [
    "def plot_confusion_matrix(cm, title=\"Confusion Matrix\",cmap=plt.cm.Blues):\n",
    "    plt.clf()\n",
    "    plt.imshow(cm, interpolation='nearest', cmap=cmap)\n",
    "    plt.title(title)\n",
    "    plt.colorbar()\n",
    "    tick_marks = np.arange(2)\n",
    "    plt.xticks(tick_marks, rotation=45)\n",
    "    plt.yticks(tick_marks)\n",
    "    plt.tight_layout()\n",
    "    plt.ylabel('True label')\n",
    "    plt.xlabel('Predicted Label')"
   ]
  },
  {
   "cell_type": "markdown",
   "metadata": {},
   "source": [
    "I plan on using 2 models in series to produce the final outputs: a classification model to identify donors and then a regression model to predict the amount the donors will donate. Thus I will be predicting both 'TARGET_B' and 'TARGET_D'."
   ]
  },
  {
   "cell_type": "markdown",
   "metadata": {},
   "source": [
    "Given time and computational constraints, my plan is to move forward with just a logistic regression although I have the code inplace to try a randomforest classifier and gradient boosting classifier models. SVM is another option, but requires signifigant time investment due to finding the optimal kernal function"
   ]
  },
  {
   "cell_type": "markdown",
   "metadata": {},
   "source": [
    "I will be using Area Under a Curve as a measure of accuracy of the classification model."
   ]
  },
  {
   "cell_type": "code",
   "execution_count": 44,
   "metadata": {
    "collapsed": true
   },
   "outputs": [],
   "source": [
    "model_data = full_data.copy()\n",
    "# saving the cleaned data in case of mistakes going forward"
   ]
  },
  {
   "cell_type": "code",
   "execution_count": 45,
   "metadata": {
    "collapsed": false
   },
   "outputs": [],
   "source": [
    "y = model_data['TARGET_B']\n",
    "cols_to_drop = ['TARGET_B','TARGET_D']\n",
    "X = model_data.drop(cols_to_drop, axis=1)"
   ]
  },
  {
   "cell_type": "markdown",
   "metadata": {},
   "source": [
    "So the amount of donors is obviously very small compared to the population. That means either changing the weights or upsampling will likely need to be performed."
   ]
  },
  {
   "cell_type": "code",
   "execution_count": 46,
   "metadata": {
    "collapsed": false
   },
   "outputs": [],
   "source": [
    "X_train, X_test, y_train, y_test = train_test_split(X, y, test_size = 0.15, random_state = 34)\n",
    "\n",
    "class_scaler = preprocessing.StandardScaler().fit(X_train)\n",
    "\n",
    "X_train = class_scaler.transform(X_train)\n",
    "X_test = class_scaler.transform(X_test)"
   ]
  },
  {
   "cell_type": "markdown",
   "metadata": {},
   "source": [
    "####Classification Model"
   ]
  },
  {
   "cell_type": "markdown",
   "metadata": {},
   "source": [
    "##### Logistic Regression"
   ]
  },
  {
   "cell_type": "code",
   "execution_count": 47,
   "metadata": {
    "collapsed": true
   },
   "outputs": [],
   "source": [
    "LogR = LogisticRegression(class_weight = {1: 20, 0: 1}) # trying weights first\n",
    "LogR_params = {'C': [0.00001, 0.0001, 0.001, 0.01, 0.1, 1, 10]}\n",
    "LogR_GridSearch = GridSearchCV(LogR, LogR_params, n_jobs=-1, cv=10)"
   ]
  },
  {
   "cell_type": "code",
   "execution_count": 48,
   "metadata": {
    "collapsed": false
   },
   "outputs": [
    {
     "data": {
      "text/plain": [
       "GridSearchCV(cv=10,\n",
       "       estimator=LogisticRegression(C=1.0, class_weight={0: 1, 1: 20}, dual=False,\n",
       "          fit_intercept=True, intercept_scaling=1, penalty='l2',\n",
       "          random_state=None, tol=0.0001),\n",
       "       fit_params={}, iid=True, loss_func=None, n_jobs=-1,\n",
       "       param_grid={'C': [1e-05, 0.0001, 0.001, 0.01, 0.1, 1, 10]},\n",
       "       pre_dispatch='2*n_jobs', refit=True, score_func=None, scoring=None,\n",
       "       verbose=0)"
      ]
     },
     "execution_count": 48,
     "metadata": {},
     "output_type": "execute_result"
    }
   ],
   "source": [
    "LogR_GridSearch.fit(X_train, y_train)"
   ]
  },
  {
   "cell_type": "code",
   "execution_count": 49,
   "metadata": {
    "collapsed": false
   },
   "outputs": [
    {
     "data": {
      "text/plain": [
       "LogisticRegression(C=10, class_weight={0: 1, 1: 20}, dual=False,\n",
       "          fit_intercept=True, intercept_scaling=1, penalty='l2',\n",
       "          random_state=None, tol=0.0001)"
      ]
     },
     "execution_count": 49,
     "metadata": {},
     "output_type": "execute_result"
    }
   ],
   "source": [
    "LogR_GridSearch.best_estimator_"
   ]
  },
  {
   "cell_type": "markdown",
   "metadata": {},
   "source": [
    "Best parameters were found to be learning_rate=10."
   ]
  },
  {
   "cell_type": "code",
   "execution_count": 50,
   "metadata": {
    "collapsed": false
   },
   "outputs": [
    {
     "data": {
      "text/plain": [
       "0.55491985203452532"
      ]
     },
     "execution_count": 50,
     "metadata": {},
     "output_type": "execute_result"
    }
   ],
   "source": [
    "LogR_GridSearch.best_score_"
   ]
  },
  {
   "cell_type": "code",
   "execution_count": 51,
   "metadata": {
    "collapsed": true
   },
   "outputs": [],
   "source": [
    "LogR_predictions = LogR_GridSearch.predict(X_test)"
   ]
  },
  {
   "cell_type": "code",
   "execution_count": 52,
   "metadata": {
    "collapsed": false
   },
   "outputs": [
    {
     "data": {
      "image/png": "[encoded data removed]",
      "text/plain": [
       "<matplotlib.figure.Figure at 0x16dceef0>"
      ]
     },
     "metadata": {},
     "output_type": "display_data"
    }
   ],
   "source": [
    "LogR_cm = confusion_matrix(y_test, LogR_predictions)\n",
    "plot_confusion_matrix(LogR_cm)"
   ]
  },
  {
   "cell_type": "code",
   "execution_count": 53,
   "metadata": {
    "collapsed": false
   },
   "outputs": [
    {
     "name": "stdout",
     "output_type": "stream",
     "text": [
      "Area Under Curve: 0.589404324908\n"
     ]
    }
   ],
   "source": [
    "LogR_fpr, LogR_tpr, LogR_thresholds = roc_curve(y_test, LogR_predictions)\n",
    "print(\"Area Under Curve:\", auc(LogR_fpr, LogR_tpr))"
   ]
  },
  {
   "cell_type": "code",
   "execution_count": null,
   "metadata": {
    "collapsed": true
   },
   "outputs": [],
   "source": []
  },
  {
   "cell_type": "markdown",
   "metadata": {},
   "source": [
    "#####Gradient Boosting"
   ]
  },
  {
   "cell_type": "code",
   "execution_count": null,
   "metadata": {
    "collapsed": true
   },
   "outputs": [],
   "source": [
    "GB = GradientBoostingClassifier()\n",
    "GB_params = {'n_estimators':[500,1000,2500,5000],\n",
    "             'learning_rate':[0.001,0.005,0.01,0.05,0.1],\n",
    "             'max_depth':[2,4,6,8]}\n",
    "GB_GridSearch = GridSearchCV(GB, GB_params, n_jobs=-1, cv=10)"
   ]
  },
  {
   "cell_type": "code",
   "execution_count": null,
   "metadata": {
    "collapsed": false
   },
   "outputs": [],
   "source": [
    "GB_GridSearch.fit(X_train, y_train)"
   ]
  },
  {
   "cell_type": "code",
   "execution_count": null,
   "metadata": {
    "collapsed": false
   },
   "outputs": [],
   "source": [
    "GB_GridSearch.best_estimator_"
   ]
  },
  {
   "cell_type": "markdown",
   "metadata": {},
   "source": [
    "Best parameters were found to be learning_rate=XXX, max_depth=X, n_estimators=XXXX"
   ]
  },
  {
   "cell_type": "code",
   "execution_count": null,
   "metadata": {
    "collapsed": true
   },
   "outputs": [],
   "source": [
    "#GB_GridSearch = GradientBoostingClassifier(learning_rate=XXXX, \n",
    "#                                           max_depth=X, \n",
    "#                                           n_estimators=XXXX)"
   ]
  },
  {
   "cell_type": "code",
   "execution_count": null,
   "metadata": {
    "collapsed": true
   },
   "outputs": [],
   "source": [
    "#GB_GridSearch.fit(X_train, y_train)"
   ]
  },
  {
   "cell_type": "code",
   "execution_count": null,
   "metadata": {
    "collapsed": true
   },
   "outputs": [],
   "source": [
    "#GB_predictions = GB_GridSearch.predict(X_test)"
   ]
  },
  {
   "cell_type": "code",
   "execution_count": null,
   "metadata": {
    "collapsed": true
   },
   "outputs": [],
   "source": [
    "#GB_cm = confusion_matrix(y_test, GB_predictions)\n",
    "#plot_confusion_matrix(GB_cm)"
   ]
  },
  {
   "cell_type": "code",
   "execution_count": null,
   "metadata": {
    "collapsed": true
   },
   "outputs": [],
   "source": [
    "#GB_fpr, GB_tpr, GB_thresholds = roc_curve(y_test, GB_predictions)\n",
    "#print(\"Area Under Curve:\", auc(GB_fpr, GB_tpr))"
   ]
  },
  {
   "cell_type": "code",
   "execution_count": null,
   "metadata": {
    "collapsed": true
   },
   "outputs": [],
   "source": []
  },
  {
   "cell_type": "markdown",
   "metadata": {},
   "source": [
    "#####Random Forests"
   ]
  },
  {
   "cell_type": "code",
   "execution_count": null,
   "metadata": {
    "collapsed": false
   },
   "outputs": [],
   "source": [
    "RF = RandomForestClassifier()\n",
    "RF_parameters = {'n_estimators':[1000, 2500, 5000],\n",
    "                 'max_depth':[1, 2, 3, 4, 5, 6, 7, 8, 9, 10],\n",
    "                 'criterion':('gini','entropy')}\n",
    "RF_GridSearch = GridSearchCV(RF, RF_params, n_jobs=-1, cv=10)"
   ]
  },
  {
   "cell_type": "code",
   "execution_count": null,
   "metadata": {
    "collapsed": false
   },
   "outputs": [],
   "source": [
    "RF_GridSearch.fit(X_train, y_train)"
   ]
  },
  {
   "cell_type": "code",
   "execution_count": null,
   "metadata": {
    "collapsed": false
   },
   "outputs": [],
   "source": [
    "RF_GridSearch.best_estimator_"
   ]
  },
  {
   "cell_type": "markdown",
   "metadata": {},
   "source": [
    "Best parameters were found to be criterion=XXXX, max_depth=X, n_estimators=XXXX"
   ]
  },
  {
   "cell_type": "code",
   "execution_count": null,
   "metadata": {
    "collapsed": true
   },
   "outputs": [],
   "source": [
    "#RF_GridSearch = RandomForestClassifier(criterion=XXXX, \n",
    "#                                       max_depth=X, \n",
    "#                                       n_estimators=XXXX, \n",
    "#                                       n_jobs=-1)"
   ]
  },
  {
   "cell_type": "code",
   "execution_count": null,
   "metadata": {
    "collapsed": true
   },
   "outputs": [],
   "source": [
    "#RF_GridSearch.fit(X_train, y_train)"
   ]
  },
  {
   "cell_type": "code",
   "execution_count": null,
   "metadata": {
    "collapsed": true
   },
   "outputs": [],
   "source": [
    "#RF_predictions = RF_GridSearch.predict(X_test)"
   ]
  },
  {
   "cell_type": "code",
   "execution_count": null,
   "metadata": {
    "collapsed": true
   },
   "outputs": [],
   "source": [
    "#RF_cm = confusion_matrix(y_test, RF_predictions)\n",
    "#plot_confusion_matrix(RF_cm)"
   ]
  },
  {
   "cell_type": "code",
   "execution_count": null,
   "metadata": {
    "collapsed": true
   },
   "outputs": [],
   "source": [
    "#RF_fpr, RF_tpr, RF_thresholds = roc_curve(y_test, RF_predictions)\n",
    "#print(\"Area Under Curve:\", auc(RF_fpr, RF_tpr))"
   ]
  },
  {
   "cell_type": "code",
   "execution_count": null,
   "metadata": {
    "collapsed": true
   },
   "outputs": [],
   "source": []
  },
  {
   "cell_type": "markdown",
   "metadata": {},
   "source": [
    "#####Summary"
   ]
  },
  {
   "cell_type": "code",
   "execution_count": null,
   "metadata": {
    "collapsed": true
   },
   "outputs": [],
   "source": [
    "#print(\"Logistic Regression AUC: \", auc(LR_fpr, LR_tpr))\n",
    "#print(\"Gradient Boosting AUC: \", auc(GB_fpr, GB_tpr))\n",
    "#print(\"Random Forests AUC: \", auc(RF_fpr, RF_tpr))"
   ]
  },
  {
   "cell_type": "markdown",
   "metadata": {},
   "source": [
    "So given the output above, we can see that the XXXX model provided the most lift of any model, so it is the model that I would use for the classification portion of this exercise. Again, I chose to move forward with the output of the weighted logistic regression."
   ]
  },
  {
   "cell_type": "code",
   "execution_count": null,
   "metadata": {
    "collapsed": true
   },
   "outputs": [],
   "source": []
  },
  {
   "cell_type": "markdown",
   "metadata": {},
   "source": [
    "#####Feature Importance"
   ]
  },
  {
   "cell_type": "markdown",
   "metadata": {},
   "source": [
    "It's always useful to see the feature importance of the chosen model and go back and add/remove features to see if that improves the accuracy. Sklearn's LogisticRegression package does not return the p-values for the features. Other packages like statsmodels.api could be used instead to get this information. Given my previous experience, randomforests tends to be the best model so I included the code to pull out feature importance below:"
   ]
  },
  {
   "cell_type": "code",
   "execution_count": null,
   "metadata": {
    "collapsed": true
   },
   "outputs": [],
   "source": [
    "#RF_Importance = pd.DataFrame(list(zip(X_train.columns, RF_GridSearch.feature_importances_)),\n",
    "#             columns=['Feature', 'Importance'])\n",
    "#RF_Importance.set_index('Feature', inplace=True)\n",
    "#RF_Importance.sort_values('Importance', ascending=False, inplace=True)"
   ]
  },
  {
   "cell_type": "code",
   "execution_count": null,
   "metadata": {
    "collapsed": true
   },
   "outputs": [],
   "source": [
    "#RF_Importance"
   ]
  },
  {
   "cell_type": "code",
   "execution_count": null,
   "metadata": {
    "collapsed": true
   },
   "outputs": [],
   "source": []
  },
  {
   "cell_type": "markdown",
   "metadata": {},
   "source": [
    "####Regression Model"
   ]
  },
  {
   "cell_type": "markdown",
   "metadata": {},
   "source": [
    "My plan here is to take the output of the classification model and subset the full data into just the predicted donors, i.e. 'TARGET_B' = 1. Then plug those donors into a regression model to estimate 'TARGET_D'. I will  build this model using all 'TARGET_B' = 1 donors but only run it on the accounts from the test data that were predicted to donate. For the sake of time, I am just using linear regression, but randomforests, SGD, SVM, gradient boosting, etc. should also be attempted."
   ]
  },
  {
   "cell_type": "code",
   "execution_count": 54,
   "metadata": {
    "collapsed": false
   },
   "outputs": [],
   "source": [
    "donor_data = model_data[model_data['TARGET_B']==1]\n",
    "y = donor_data['TARGET_D']\n",
    "cols_to_drop = ['TARGET_B','TARGET_D']\n",
    "X = donor_data.drop(cols_to_drop, axis=1)\n",
    "\n",
    "reg_scaler = preprocessing.StandardScaler().fit(X)\n",
    "\n",
    "X = reg_scaler.transform(X)"
   ]
  },
  {
   "cell_type": "code",
   "execution_count": 55,
   "metadata": {
    "collapsed": true
   },
   "outputs": [],
   "source": [
    "from sklearn.linear_model import LinearRegression\n",
    "from sklearn.metrics import mean_squared_error"
   ]
  },
  {
   "cell_type": "code",
   "execution_count": 56,
   "metadata": {
    "collapsed": false
   },
   "outputs": [
    {
     "data": {
      "text/plain": [
       "0.57078696609036284"
      ]
     },
     "execution_count": 56,
     "metadata": {},
     "output_type": "execute_result"
    }
   ],
   "source": [
    "LR = LinearRegression()\n",
    "LR.fit(X, y)\n",
    "LR.score(X,y)"
   ]
  },
  {
   "cell_type": "code",
   "execution_count": 57,
   "metadata": {
    "collapsed": false
   },
   "outputs": [],
   "source": [
    "LR_predictions = LR.predict(X)"
   ]
  },
  {
   "cell_type": "code",
   "execution_count": 58,
   "metadata": {
    "collapsed": false
   },
   "outputs": [
    {
     "name": "stdout",
     "output_type": "stream",
     "text": [
      "66.4634054104\n"
     ]
    }
   ],
   "source": [
    "print (mean_squared_error(y,LR_predictions))"
   ]
  },
  {
   "cell_type": "code",
   "execution_count": null,
   "metadata": {
    "collapsed": false
   },
   "outputs": [],
   "source": []
  },
  {
   "cell_type": "markdown",
   "metadata": {},
   "source": [
    "###TESTING"
   ]
  },
  {
   "cell_type": "markdown",
   "metadata": {},
   "source": [
    "Loading the test data:"
   ]
  },
  {
   "cell_type": "code",
   "execution_count": 59,
   "metadata": {
    "collapsed": true
   },
   "outputs": [],
   "source": [
    "column_names = pd.read_csv('cup98VAL.txt',nrows=1)\n",
    "column_names = column_names.columns.values.tolist()\n",
    "test_data = pd.read_csv('cup98VAL.txt',names=column_names,skiprows=1,dtype={'NOEXCH':str})"
   ]
  },
  {
   "cell_type": "markdown",
   "metadata": {},
   "source": [
    "Cleaning the test data:\n",
    "\n",
    "This is sloppy as it is entirely possible that the testing dataset has different values such that pad.get_dummies will create features not found in the training set. I lucked out in this regard but would need to record to make more robust"
   ]
  },
  {
   "cell_type": "code",
   "execution_count": 60,
   "metadata": {
    "collapsed": false
   },
   "outputs": [],
   "source": [
    "test_data['MONTHS_SINCE_1st_GIFT'] = test_data.apply(lambda row: months_between(row['ODATEDW']),axis=1)\n",
    "cols_to_drop = ['ODATEDW','OSOURCE','TCODE','STATE','ZIP','MAILCODE','PVASTATE','NOEXCH','RECINHSE','RECP3','RECPGVG','RECSWEEP'\n",
    "                ,'AGEFLAG','CHILD03','CHILD07','CHILD12','CHILD18','NUMCHLD','DOB','MDMAUD_R','MDMAUD_F','MDMAUD_A','MDMAUD'\n",
    "                ,'CLUSTER']\n",
    "test_data.drop(cols_to_drop, axis=1, inplace=True)\n",
    "test_data['AGE'].fillna(value=0,inplace=True)\n",
    "test_data = pd.concat([test_data, pd.get_dummies(test_data['DOMAIN'],prefix='SES_')], axis=1)\n",
    "cols_to_drop = ['DOMAIN','SES__ ']\n",
    "test_data.drop(cols_to_drop, axis=1, inplace=True)\n",
    "test_data['HOMEOWNR'] = test_data.apply(lambda row: binary_map(row['HOMEOWNR'],'H'),axis=1)\n",
    "test_data = pd.concat([test_data, pd.get_dummies(test_data['INCOME'],prefix='INCOME_')], axis=1)\n",
    "test_data = pd.concat([test_data, pd.get_dummies(test_data['WEALTH1'],prefix='WEALTH1_')], axis=1)\n",
    "cols_to_drop = ['INCOME','WEALTH1']\n",
    "test_data.drop(cols_to_drop, axis=1, inplace=True)\n",
    "test_data = pd.concat([test_data, pd.get_dummies(test_data['GENDER'],prefix='GENDER_')], axis=1)\n",
    "cols_to_drop = ['GENDER','GENDER__ ','GENDER__J','GENDER__U']\n",
    "test_data.drop(cols_to_drop, axis=1, inplace=True)\n",
    "cols_to_drop = ['MBCRAFT','MBGARDEN','MBBOOKS','MBCOLECT','MAGFAML','MAGFEM','MAGMALE','PUBGARDN','PUBCULIN','PUBHLTH'\n",
    "                ,'PUBDOITY','PUBNEWFN','PUBPHOTO','PUBOPP','DATASRCE','LOCALGOV','STATEGOV','FEDGOV','SOLP3','SOLIH','MAJOR'\n",
    "                ,'WEALTH2','GEOCODE','COLLECT1','BIBLE','CATLG','HOMEE','PETS','CDPLAY','STEREO','PCOWNERS','PHOTO','CRAFTS'\n",
    "                ,'FISHER','GARDENIN','BOATS','WALKER','KIDSTUFF','CARDS','PLATES','LIFESRC','POP901','POP902','POP903'\n",
    "                ,'POP90C1','POP90C2','POP90C3','POP90C4','POP90C5','ETH1','ETH2','ETH3','ETH4','ETH5','ETH6','ETH7'\n",
    "                ,'ETH8','ETH9','ETH10','ETH11','ETH12','ETH13','ETH14','ETH15','ETH16','AGE901','AGE902','AGE903','AGE904'\n",
    "                ,'AGE905','AGE906','AGE907','CHIL1','CHIL2','CHIL3','AGEC1','AGEC2','AGEC3','AGEC4','AGEC5','AGEC6','AGEC7'\n",
    "                ,'CHILC1','CHILC2','CHILC3','CHILC4','CHILC5','HHAGE1','HHAGE2','HHAGE3','HHN1','HHN2','HHN3','HHN4','HHN5'\n",
    "                ,'HHN6','MARR1','MARR2','MARR3','MARR4','HHP1','HHP2','DW1','DW2','DW3','DW4','DW5','DW6','DW7','DW8','DW9'\n",
    "                ,'HV2','HV3','HV4','HU2','HU3','HU4','HU5','HHD1','HHD2','HHD3','HHD4','HHD5','HHD6','HHD7','HHD8','HHD9'\n",
    "                ,'HHD10','HHD11','HHD12','ETHC1','ETHC2','ETHC3','ETHC4','ETHC5','ETHC6','HVP1','HVP2','HVP3','HVP4','HVP5'\n",
    "                ,'HVP6','HUR1','HUR2','RHP1','RHP2','RHP3','RHP4','HUPA1','HUPA2','HUPA3','HUPA4','HUPA5','HUPA6','HUPA7','RP1'\n",
    "                ,'RP2','RP3','RP4','MSA','ADI','DMA','IC2','IC3','IC4','IC6','IC7','IC8','IC9','IC10','IC11','IC12','IC13'\n",
    "                ,'IC14','IC15','IC16','IC17','IC18','IC19','IC20','IC21','IC22','IC23','HHAS1','HHAS2','HHAS3','HHAS4','MC1'\n",
    "                ,'MC2','MC3','TPE1','TPE2','TPE3','TPE4','TPE5','TPE6','TPE7','TPE8','TPE9','PEC1','PEC2','TPE10','TPE11'\n",
    "                ,'TPE12','TPE13','LFC1','LFC2','LFC3','LFC4','LFC5','LFC6','LFC7','LFC8','LFC9','LFC10','OCC1','OCC2','OCC3'\n",
    "                ,'OCC4','OCC5','OCC6','OCC7','OCC8','OCC9','OCC10','OCC11','OCC12','OCC13','EIC1','EIC2','EIC3','EIC4','EIC5'\n",
    "                ,'EIC6','EIC7','EIC8','EIC9','EIC10','EIC11','EIC12','EIC13','EIC14','EIC15','EIC16','OEDC1','OEDC2','OEDC3'\n",
    "                ,'OEDC4','OEDC5','OEDC6','OEDC7','EC1','EC2','EC3','EC4','EC5','EC6','EC7','EC8','SEC1','SEC2','SEC3','SEC4'\n",
    "                ,'SEC5','AFC1','AFC2','AFC3','AFC4','AFC5','AFC6','VC1','VC2','VC3','VC4','ANC1','ANC2','ANC3','ANC4','ANC5'\n",
    "                ,'ANC6','ANC7','ANC8','ANC9','ANC10','ANC11','ANC12','ANC13','ANC14','ANC15','POBC1','POBC2','LSC1','LSC2'\n",
    "                ,'LSC3','LSC4','VOC1','VOC2','VOC3','HC1','HC2','HC3','HC4','HC5','HC6','HC7','HC8','HC9','HC10','HC11','HC12'\n",
    "                ,'HC13','HC14','HC15','HC16','HC17','HC18','HC19','HC20','HC21','MHUC1','MHUC2','AC1','AC2']\n",
    "test_data.drop(cols_to_drop, axis=1, inplace=True)\n",
    "test_data['VETERANS'] = test_data.apply(lambda row: binary_map(row['VETERANS'],'Y'),axis=1)\n",
    "test_data['PEPSTRFL'] = test_data.apply(lambda row: binary_map(row['PEPSTRFL'],'X'),axis=1)\n",
    "for i in ('F','N','A','L','I'):\n",
    "    test_data['RFA_3_' + i] = test_data.apply(lambda row: rfa_map(row['RFA_3'],0,i),axis=1)\n",
    "test_data = pd.concat([test_data, pd.get_dummies(test_data['RFA_2F'],prefix='RFA_2F_')], axis=1)\n",
    "test_data.drop('MAXADATE', axis=1, inplace=True)\n",
    "test_data['SUM_GIFT_AMT'] = test_data.ix[:,'RAMNT_3':'RAMNT_24'].sum(axis=1).fillna(0)\n",
    "test_data['NUM_PROMOTIONS'] = test_data.ix[:,'ADATE_3':'ADATE_24'].count(axis=1)\n",
    "test_data['NUM_DONATIONS'] = test_data.ix[:,'RAMNT_3':'RAMNT_24'].count(axis=1)\n",
    "test_data['AVG_GIFT_AMT'] = test_data['SUM_GIFT_AMT'] / test_data['NUM_DONATIONS'].map(lambda x: max(x,1))\n",
    "test_data['NUM_CARD_PROMO'] = test_data.ix[:,['ADATE_3','ADATE_5','ADATE_14','ADATE_24']].count(axis=1)\n",
    "test_data['NUM_CARD_DONAT'] = test_data.ix[:,['RAMNT_3','RAMNT_5','RAMNT_14','RAMNT_24']].count(axis=1)\n",
    "test_data['CARD_GIFT_AMT'] = test_data.ix[:,['RAMNT_3','RAMNT_5','RAMNT_14','RAMNT_24']].sum(axis=1).fillna(0)\n",
    "test_data['AVG_CARD_AMT'] = test_data['CARD_GIFT_AMT'] / test_data['NUM_CARD_DONAT'].map(lambda x: max(x,1))\n",
    "cols_to_drop = ['ADATE_2','ADATE_3','ADATE_4','ADATE_5','ADATE_6','ADATE_7','ADATE_8','ADATE_9','ADATE_10','ADATE_11','ADATE_12'\n",
    "                ,'ADATE_13','ADATE_14','ADATE_15','ADATE_16','ADATE_17','ADATE_18','ADATE_19','ADATE_20','ADATE_21','ADATE_22'\n",
    "                ,'ADATE_23','ADATE_24','RFA_2','RFA_3','RFA_4','RFA_5','RFA_6','RFA_7','RFA_8','RFA_9','RFA_10','RFA_11'\n",
    "                ,'RFA_12','RFA_13','RFA_14','RFA_15','RFA_16','RFA_17','RFA_18','RFA_19','RFA_20','RFA_21','RFA_22','RFA_23'\n",
    "                ,'RFA_24','RFA_2F__4','RFA_2R','RFA_2F','RFA_2A','RDATE_3','RDATE_4','RDATE_5','RDATE_6','RDATE_7','RDATE_8'\n",
    "                ,'RDATE_9','RDATE_10','RDATE_11','RDATE_12','RDATE_13','RDATE_14','RDATE_15','RDATE_16','RDATE_17','RDATE_18'\n",
    "                ,'RDATE_19','RDATE_20','RDATE_21','RDATE_22','RDATE_23','RDATE_24','RAMNT_3','RAMNT_4','RAMNT_5','RAMNT_6'\n",
    "                ,'RAMNT_7','RAMNT_8','RAMNT_9','RAMNT_10','RAMNT_11','RAMNT_12','RAMNT_13','RAMNT_14','RAMNT_15','RAMNT_16'\n",
    "                ,'RAMNT_17','RAMNT_18','RAMNT_19','RAMNT_20','RAMNT_21','RAMNT_22','RAMNT_23','RAMNT_24']\n",
    "test_data.drop(cols_to_drop, axis=1, inplace=True)\n",
    "test_data['MONTHS_SINCE_LAST_GIFT'] = test_data.apply(lambda row: months_between(row['LASTDATE']),axis=1)\n",
    "test_data.drop(['LASTDATE'],axis=1,inplace=True)\n",
    "test_data['GIFT_RANGE'] = test_data['MAXRAMNT'] - test_data['MINRAMNT']\n",
    "cols_to_drop = ['CARDGIFT','MINRAMNT','MINRDATE','MAXRDATE','FISTDATE','NEXTDATE','TIMELAG','HPHONE_D','CLUSTER2','GEOCODE2']\n",
    "test_data.drop(cols_to_drop, axis=1, inplace=True)"
   ]
  },
  {
   "cell_type": "markdown",
   "metadata": {},
   "source": [
    "Running the models on the test data:"
   ]
  },
  {
   "cell_type": "code",
   "execution_count": 61,
   "metadata": {
    "collapsed": false
   },
   "outputs": [],
   "source": [
    "test_run_data = test_data.copy()\n",
    "\n",
    "class_output = pd.DataFrame(test_run_data['CONTROLN'])\n",
    "class_X = test_run_data.drop('CONTROLN', axis=1)\n",
    "class_X = class_scaler.transform(class_X)"
   ]
  },
  {
   "cell_type": "code",
   "execution_count": 62,
   "metadata": {
    "collapsed": false
   },
   "outputs": [],
   "source": [
    "LogR_class_pred = LogR_GridSearch.predict(class_X)"
   ]
  },
  {
   "cell_type": "code",
   "execution_count": 63,
   "metadata": {
    "collapsed": false
   },
   "outputs": [],
   "source": [
    "test_run_data['TARGET_B_PREDICTIONS']=LogR_class_pred"
   ]
  },
  {
   "cell_type": "code",
   "execution_count": 64,
   "metadata": {
    "collapsed": false
   },
   "outputs": [],
   "source": [
    "amt_reg_input = test_run_data[test_run_data['TARGET_B_PREDICTIONS']==1]\n",
    "cols_to_drop = ['TARGET_B_PREDICTIONS','CONTROLN']\n",
    "amt_reg_input = amt_reg_input.drop(cols_to_drop, axis=1)\n",
    "reg_X = reg_scaler.transform(amt_reg_input)"
   ]
  },
  {
   "cell_type": "code",
   "execution_count": 65,
   "metadata": {
    "collapsed": false
   },
   "outputs": [],
   "source": [
    "LR_amt_pred = LR.predict(reg_X)"
   ]
  },
  {
   "cell_type": "code",
   "execution_count": 66,
   "metadata": {
    "collapsed": false
   },
   "outputs": [],
   "source": [
    "amt_reg_input['TARGET_D_PREDICT'] = LR_amt_pred\n",
    "fin_analysis = test_run_data.join(amt_reg_input['TARGET_D_PREDICT'])\n",
    "class_output['TARGET_D_PREDICT'] = fin_analysis['TARGET_D_PREDICT'].fillna(0)"
   ]
  },
  {
   "cell_type": "markdown",
   "metadata": {},
   "source": [
    "Writing the output file:"
   ]
  },
  {
   "cell_type": "code",
   "execution_count": 67,
   "metadata": {
    "collapsed": false
   },
   "outputs": [],
   "source": [
    "class_output.to_csv('ml_exercise_output.csv',index=False)"
   ]
  },
  {
   "cell_type": "markdown",
   "metadata": {},
   "source": [
    "###TAKE-AWAYS"
   ]
  },
  {
   "cell_type": "markdown",
   "metadata": {},
   "source": [
    "With more time, I would like to run the randomforest and gradientboosting classification models to completion as well as attempt a SVM model. The regression model could also be improved by trying other models such as those used for the classification portion (just their regression forms). \n",
    "\n",
    "I would also like to have produced a summary showing the improvements produced by the model in terms of improving profit. The beginning of this summary can be seen below:"
   ]
  },
  {
   "cell_type": "code",
   "execution_count": 76,
   "metadata": {
    "collapsed": false
   },
   "outputs": [
    {
     "name": "stdout",
     "output_type": "stream",
     "text": [
      "75669.0\n",
      "64880.16\n",
      "Current Profits are: 10788.84\n"
     ]
    }
   ],
   "source": [
    "revenue = round(full_data['TARGET_D'].sum())\n",
    "costs = len(full_data)*0.68\n",
    "print (revenue)\n",
    "print (costs)\n",
    "print ('Current Profits are: ' + str(revenue-costs))"
   ]
  },
  {
   "cell_type": "markdown",
   "metadata": {},
   "source": []
  }
 ],
 "metadata": {
  "kernelspec": {
   "display_name": "Python 3",
   "language": "python",
   "name": "python3"
  },
  "language_info": {
   "codemirror_mode": {
    "name": "ipython",
    "version": 3
   },
   "file_extension": ".py",
   "mimetype": "text/x-python",
   "name": "python",
   "nbconvert_exporter": "python",
   "pygments_lexer": "ipython3",
   "version": "3.3.5"
  }
 },
 "nbformat": 4,
 "nbformat_minor": 0
}
